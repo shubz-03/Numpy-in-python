{
 "cells": [
  {
   "cell_type": "markdown",
   "id": "fd643073-a130-4d42-9e85-d460c515fe33",
   "metadata": {},
   "source": [
    "Numpy\n"
   ]
  },
  {
   "cell_type": "markdown",
   "id": "0d03b4f3-91b8-450e-8ea6-e1e43168a7e9",
   "metadata": {},
   "source": [
    "Faster than lists(upto 50 times) and takes lesser space"
   ]
  },
  {
   "cell_type": "code",
   "execution_count": 1,
   "id": "c72f97c2-23ec-43da-a555-3bdf04625158",
   "metadata": {},
   "outputs": [],
   "source": [
    "# importing numpy\n",
    "import numpy as np"
   ]
  },
  {
   "cell_type": "code",
   "execution_count": 2,
   "id": "7384f089-a511-47aa-8ec6-606c99bb7f9f",
   "metadata": {},
   "outputs": [
    {
     "data": {
      "text/plain": [
       "array([1, 2, 3, 4, 5])"
      ]
     },
     "execution_count": 2,
     "metadata": {},
     "output_type": "execute_result"
    }
   ],
   "source": [
    "#Creating Numpy array from a python list\n",
    "a=[1,2,3,4,5,]\n",
    "arr=np.array(a)\n",
    "arr"
   ]
  },
  {
   "cell_type": "code",
   "execution_count": 3,
   "id": "e7d660c7-7a66-41ec-8f83-61a9580c9aa5",
   "metadata": {},
   "outputs": [
    {
     "data": {
      "text/plain": [
       "numpy.ndarray"
      ]
     },
     "execution_count": 3,
     "metadata": {},
     "output_type": "execute_result"
    }
   ],
   "source": [
    "type(arr)"
   ]
  },
  {
   "cell_type": "code",
   "execution_count": 4,
   "id": "6d65c911-b7d0-44cb-8e22-b397c756676f",
   "metadata": {},
   "outputs": [
    {
     "data": {
      "text/plain": [
       "array([1, 2, 3, 4, 5])"
      ]
     },
     "execution_count": 4,
     "metadata": {},
     "output_type": "execute_result"
    }
   ],
   "source": [
    "# Creating Numpy arrasy from tuples\n",
    "t=(1,2,3,4,5,)\n",
    "tup_arr=np.array(t)\n",
    "tup_arr"
   ]
  },
  {
   "cell_type": "code",
   "execution_count": 11,
   "id": "26157d45-3e6a-46b3-8a12-4fab8914d519",
   "metadata": {},
   "outputs": [],
   "source": [
    "#Dimensions in array\n",
    "arr1=np.array((45,56))"
   ]
  },
  {
   "cell_type": "code",
   "execution_count": 12,
   "id": "c43e8aee-a229-463a-b69b-06c8de3f5751",
   "metadata": {},
   "outputs": [
    {
     "data": {
      "text/plain": [
       "array([45, 56])"
      ]
     },
     "execution_count": 12,
     "metadata": {},
     "output_type": "execute_result"
    }
   ],
   "source": [
    "arr1"
   ]
  },
  {
   "cell_type": "code",
   "execution_count": 16,
   "id": "fa54fe56-5cf8-45e4-8821-86e446222384",
   "metadata": {},
   "outputs": [
    {
     "data": {
      "text/plain": [
       "1"
      ]
     },
     "execution_count": 16,
     "metadata": {},
     "output_type": "execute_result"
    }
   ],
   "source": [
    "arr1.ndim"
   ]
  },
  {
   "cell_type": "markdown",
   "id": "c0d1f3f0-e99b-45f4-83e5-5c4956f583e9",
   "metadata": {},
   "source": [
    "2-D array: Array having 1-D arrays as its elements."
   ]
  },
  {
   "cell_type": "code",
   "execution_count": 17,
   "id": "250bf426-eec7-4d0f-8b9f-de09df3a310a",
   "metadata": {},
   "outputs": [],
   "source": [
    "arr = np.array([[1,2,3],[4,5,6]])"
   ]
  },
  {
   "cell_type": "code",
   "execution_count": 18,
   "id": "0b3c3152-f6de-42d6-b57d-13ecec8d2288",
   "metadata": {},
   "outputs": [
    {
     "data": {
      "text/plain": [
       "array([[1, 2, 3],\n",
       "       [4, 5, 6]])"
      ]
     },
     "execution_count": 18,
     "metadata": {},
     "output_type": "execute_result"
    }
   ],
   "source": [
    "arr"
   ]
  },
  {
   "cell_type": "code",
   "execution_count": 19,
   "id": "2961f2d5-3c70-47e1-bda9-d90909b3f12a",
   "metadata": {},
   "outputs": [
    {
     "data": {
      "text/plain": [
       "2"
      ]
     },
     "execution_count": 19,
     "metadata": {},
     "output_type": "execute_result"
    }
   ],
   "source": [
    "arr.ndim"
   ]
  },
  {
   "cell_type": "code",
   "execution_count": 21,
   "id": "22096aa2-4063-4ce8-b027-53294411c631",
   "metadata": {},
   "outputs": [
    {
     "data": {
      "text/plain": [
       "matrix([[1, 2, 3],\n",
       "        [4, 5, 6]])"
      ]
     },
     "execution_count": 21,
     "metadata": {},
     "output_type": "execute_result"
    }
   ],
   "source": [
    "mat  = np.mat(np.array([[1,2,3],[4,5,6]]))\n",
    "mat"
   ]
  },
  {
   "cell_type": "markdown",
   "id": "567d0fc5-6d95-4671-9380-d1ad04bc7d4f",
   "metadata": {},
   "source": [
    "3- D array : 2-D arrays behave as element"
   ]
  },
  {
   "cell_type": "code",
   "execution_count": 26,
   "id": "f1995700-200f-4aa2-b685-0f558f2fee73",
   "metadata": {},
   "outputs": [
    {
     "data": {
      "text/plain": [
       "array([[[1, 2, 3],\n",
       "        [4, 5, 6]],\n",
       "\n",
       "       [[1, 2, 3],\n",
       "        [3, 4, 5]]])"
      ]
     },
     "execution_count": 26,
     "metadata": {},
     "output_type": "execute_result"
    }
   ],
   "source": [
    "arr = np.array([[[1,2,3],[4,5,6]],[[1,2,3],[3,4,5]]])\n",
    "arr"
   ]
  },
  {
   "cell_type": "code",
   "execution_count": 27,
   "id": "a4a04d1f-744a-4e7e-a3b6-d7f10f3ad505",
   "metadata": {},
   "outputs": [
    {
     "data": {
      "text/plain": [
       "3"
      ]
     },
     "execution_count": 27,
     "metadata": {},
     "output_type": "execute_result"
    }
   ],
   "source": [
    "arr.ndim"
   ]
  },
  {
   "cell_type": "markdown",
   "id": "3f267c81-9820-491d-a528-25ee09afca04",
   "metadata": {},
   "source": [
    "Higher Dimesnional Arrays"
   ]
  },
  {
   "cell_type": "code",
   "execution_count": 31,
   "id": "a3930027-d712-4314-a7bf-157add5d3188",
   "metadata": {},
   "outputs": [
    {
     "data": {
      "text/plain": [
       "array([[[[[1, 2, 3]]]]])"
      ]
     },
     "execution_count": 31,
     "metadata": {},
     "output_type": "execute_result"
    }
   ],
   "source": [
    "arr = np.array([1,2,3], ndmin = 5)\n",
    "arr\n"
   ]
  },
  {
   "cell_type": "code",
   "execution_count": 32,
   "id": "cdbd9544-51bd-4956-b413-a46703b0c287",
   "metadata": {},
   "outputs": [
    {
     "data": {
      "text/plain": [
       "5"
      ]
     },
     "execution_count": 32,
     "metadata": {},
     "output_type": "execute_result"
    }
   ],
   "source": [
    "arr.ndim"
   ]
  },
  {
   "cell_type": "code",
   "execution_count": null,
   "id": "43622c9f-a8c6-4224-9beb-c15cd599ce26",
   "metadata": {},
   "outputs": [],
   "source": []
  }
 ],
 "metadata": {
  "kernelspec": {
   "display_name": "Python 3 (ipykernel)",
   "language": "python",
   "name": "python3"
  },
  "language_info": {
   "codemirror_mode": {
    "name": "ipython",
    "version": 3
   },
   "file_extension": ".py",
   "mimetype": "text/x-python",
   "name": "python",
   "nbconvert_exporter": "python",
   "pygments_lexer": "ipython3",
   "version": "3.9.12"
  }
 },
 "nbformat": 4,
 "nbformat_minor": 5
}
